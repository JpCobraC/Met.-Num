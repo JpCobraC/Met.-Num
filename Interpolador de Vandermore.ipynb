{
 "cells": [
  {
   "cell_type": "markdown",
   "id": "e356c966",
   "metadata": {},
   "source": [
    "João Pedro Cobra Casici"
   ]
  },
  {
   "cell_type": "code",
   "execution_count": 19,
   "id": "163593cf",
   "metadata": {},
   "outputs": [
    {
     "name": "stdout",
     "output_type": "stream",
     "text": [
      "    3\n",
      "-1 x + 6 x + 1\n"
     ]
    }
   ],
   "source": [
    "import numpy as np\n",
    "from scipy.interpolate import lagrange\n",
    "from numpy.polynomial import Polynomial\n",
    "\n",
    "x = np.array([0, 1, 2, 3])\n",
    "y = np.array([1, 6, 5, -8])\n",
    "\n",
    "p = lagrange(x,y)\n",
    "\n",
    "print(p)"
   ]
  },
  {
   "cell_type": "code",
   "execution_count": 20,
   "id": "5d2537ba",
   "metadata": {},
   "outputs": [
    {
     "name": "stdout",
     "output_type": "stream",
     "text": [
      "Polinômio interpolador (método de Vandermonde):\n",
      "1.0 + 6.0 x + -0.0 x**2 - 1.0 x**3\n"
     ]
    }
   ],
   "source": [
    "def interpolador_vandermonde(x, y):\n",
    "    x = np.asarray(x)\n",
    "    y = np.asarray(y)\n",
    "\n",
    "    V = np.vander(x, N=len(x), increasing=True)\n",
    "    coeficientes = np.linalg.solve(V, y)\n",
    "    u = Polynomial(coeficientes)\n",
    "    return u\n",
    "\n",
    "p_vandermonde = interpolador_vandermonde(x, y)\n",
    "\n",
    "print(\"Polinômio interpolador (método de Vandermonde):\")\n",
    "print(p_vandermonde)"
   ]
  }
 ],
 "metadata": {
  "kernelspec": {
   "display_name": "Python 3",
   "language": "python",
   "name": "python3"
  },
  "language_info": {
   "codemirror_mode": {
    "name": "ipython",
    "version": 3
   },
   "file_extension": ".py",
   "mimetype": "text/x-python",
   "name": "python",
   "nbconvert_exporter": "python",
   "pygments_lexer": "ipython3",
   "version": "3.10.0"
  }
 },
 "nbformat": 4,
 "nbformat_minor": 5
}
