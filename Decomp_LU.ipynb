{
 "cells": [
  {
   "cell_type": "code",
   "execution_count": 2,
   "id": "832918dc",
   "metadata": {},
   "outputs": [],
   "source": [
    "def decomp_lu(A):\n",
    "    import numpy as np\n",
    "    n = A.shape[0]\n",
    "    L = np.zeros_like(A, dtype=float)\n",
    "    U = np.zeros_like(A, dtype=float)\n",
    "    for i in range(n):\n",
    "        L[i, i] = 1.0\n",
    "        for j in range(i, n):\n",
    "            U[i, j] = A[i, j] - sum(L[i, k] * U[k, j] for k in range(i))\n",
    "        for j in range(i+1, n):\n",
    "            if U[i, i] == 0:\n",
    "                raise ValueError(\"Zero na diagonal de U. Não é possível decompor sem pivotamento.\")\n",
    "            L[j, i] = (A[j, i] - sum(L[j, k] * U[k, i] for k in range(i))) / U[i, i]\n",
    "    return L, U\n",
    "\n",
    "import numpy as np\n",
    "\n",
    "def decomp_lu_pivot(A, b):\n",
    "    import numpy as np\n",
    "    n = A.shape[0]\n",
    "    L = np.identity(n, dtype=float)\n",
    "    U = A.astype(float).copy()\n",
    "    p = np.arange(n)\n",
    "\n",
    "    for k in range(n - 1):\n",
    "        pivot_row_index = np.argmax(np.abs(U[k:, k])) + k\n",
    "        \n",
    "        if pivot_row_index != k:\n",
    "            U[[k, pivot_row_index]] = U[[pivot_row_index, k]]\n",
    "            p[[k, pivot_row_index]] = p[[pivot_row_index, k]]\n",
    "            if k > 0:\n",
    "                L[[k, pivot_row_index], :k] = L[[pivot_row_index, k], :k]\n",
    "        \n",
    "        for i in range(k + 1, n):\n",
    "            L[i, k] = U[i, k] / U[k, k]\n",
    "            U[i, k:] -= L[i, k] * U[k, k:]\n",
    "            U[i, k] = 0\n",
    "    \n",
    "    b_permuted = b[p]\n",
    "\n",
    "    y = np.zeros(n)\n",
    "    for i in range(n):\n",
    "        y[i] = b_permuted[i] - np.dot(L[i, :i], y[:i])\n",
    "\n",
    "    x = np.zeros(n)\n",
    "    for i in range(n - 1, -1, -1):\n",
    "        x[i] = (y[i] - np.dot(U[i, i + 1:], x[i + 1:])) / U[i, i]\n",
    "        \n",
    "    return x"
   ]
  }
 ],
 "metadata": {
  "kernelspec": {
   "display_name": ".venv",
   "language": "python",
   "name": "python3"
  },
  "language_info": {
   "codemirror_mode": {
    "name": "ipython",
    "version": 3
   },
   "file_extension": ".py",
   "mimetype": "text/x-python",
   "name": "python",
   "nbconvert_exporter": "python",
   "pygments_lexer": "ipython3",
   "version": "3.12.3"
  }
 },
 "nbformat": 4,
 "nbformat_minor": 5
}
