{
 "cells": [
  {
   "cell_type": "markdown",
   "id": "e66abec3",
   "metadata": {},
   "source": [
    "# Importante\n",
    "\n",
    "### Save o arquivo em pdf para entregá-lo"
   ]
  },
  {
   "cell_type": "markdown",
   "id": "8fab8dc1",
   "metadata": {},
   "source": [
    "Escreva seu nome: João Pedro Cobra Casici"
   ]
  },
  {
   "cell_type": "markdown",
   "id": "457b94bb",
   "metadata": {},
   "source": [
    "# Questão 1)\n",
    "\n",
    "Em um certo concurso, figurava a seguinte questão:\n",
    "    \n",
    "Das alternativas abaixo, a que apresenta a raíz da equação $x^3 - 8x^2 - 200$  é:\n",
    "\n",
    "(a) 5.0\n",
    "(b) 3.0\n",
    "(c) 12.0\n",
    "(d) 10.0\n",
    "\n",
    "Joãozinho, não sabe um método para resolver equações do terceiro grau, como ele pode descobrir a alternativa correta?"
   ]
  },
  {
   "cell_type": "markdown",
   "id": "4169051c",
   "metadata": {},
   "source": [
    "----\n",
    "Sua resposta:\n",
    "\n",
    "**Podemos utilizar o método da bissecção, e a raiz encontrada é 10.0.**\n",
    "\n",
    "-------"
   ]
  },
  {
   "cell_type": "markdown",
   "id": "5f2e181d",
   "metadata": {},
   "source": [
    "# Questão 2)"
   ]
  },
  {
   "cell_type": "markdown",
   "id": "c24491b0",
   "metadata": {},
   "source": [
    "**2a)** Complete o código abaixo de maneira a encontrar a raiz da equação $e^x - 11$, com no máximo 5 interações e precisão de 0.001.  Use como intervalo inicial $[1, 3]$.\n",
    "\n"
   ]
  },
  {
   "cell_type": "code",
   "execution_count": 1,
   "id": "c01d3995",
   "metadata": {},
   "outputs": [
    {
     "name": "stdout",
     "output_type": "stream",
     "text": [
      "A raiz é: 2.397864076815814\n"
     ]
    }
   ],
   "source": [
    "from math import exp\n",
    "\n",
    "def f2a(x):\n",
    "    return exp(x) - 11\n",
    "n = 5\n",
    "tol = 1e-3\n",
    "a = 1.0\n",
    "b= 3.0\n",
    "\n",
    "for i in range(n):\n",
    "    fa, fb = f2a(a), f2a(b)\n",
    "    c = (a * fb - b * fa) / (fb - fa)  \n",
    "    if abs(f2a(c)) < tol:\n",
    "        print(\"A raiz é:\", c)\n",
    "        break\n",
    "    a = b\n",
    "    b = c"
   ]
  },
  {
   "cell_type": "markdown",
   "id": "882ebfcf",
   "metadata": {},
   "source": [
    "**2b**. Qual método para obter raízes de equação é usado no código 01?"
   ]
  },
  {
   "cell_type": "markdown",
   "id": "7a801da1",
   "metadata": {},
   "source": [
    "---\n",
    "Sua resposta: \n",
    "\n",
    "**O método utilizado no código acima é o método da falsa posição.**\n",
    "\n",
    "-----"
   ]
  },
  {
   "cell_type": "markdown",
   "id": "7aa5c1cc",
   "metadata": {},
   "source": [
    "**2c.** Use o CÓDIGO 01 para determinar a raiz da equação $2x^4 + 4x^3 - 11x^2 - 14x + 10 = 0$ no intervalo $[-3, -2]$ com no máximo 10 iterações e precisão de 0.001.\n",
    "\n",
    "O que você observa olhando para o intervalo inicial e para a raiz obtida?\n",
    "\n",
    "Observa alguma particularidade em relação ao método empregado?"
   ]
  },
  {
   "cell_type": "code",
   "execution_count": 4,
   "id": "2ad7f2a2",
   "metadata": {},
   "outputs": [
    {
     "name": "stdout",
     "output_type": "stream",
     "text": [
      "A raiz é: -1.6504223364172688\n"
     ]
    }
   ],
   "source": [
    "from math import exp\n",
    "\n",
    "def f2a(x):\n",
    "    return 2*x**4 + 4*x**3 - 11*x**2 - 14*x + 10\n",
    "n = 10\n",
    "tol = 1e-3\n",
    "a = -3.0\n",
    "b= -2.0\n",
    "\n",
    "for i in range(n):\n",
    "    fa, fb = f2a(a), f2a(b)\n",
    "    c = (a * fb - b * fa) / (fb - fa)  \n",
    "    if abs(f2a(c)) < tol:\n",
    "        print(\"A raiz é:\", c)\n",
    "        break\n",
    "    a = b\n",
    "    b = c"
   ]
  },
  {
   "cell_type": "markdown",
   "id": "44fd62b9",
   "metadata": {},
   "source": [
    "## Questão 3"
   ]
  },
  {
   "cell_type": "code",
   "execution_count": 11,
   "id": "357cbdfb",
   "metadata": {},
   "outputs": [
    {
     "name": "stdout",
     "output_type": "stream",
     "text": [
      "(1.0400390625, [5.0, 2.5, 1.25, 0.625, 0.9375, 1.09375, 1.015625, 1.0546875, 1.03515625, 1.044921875])\n"
     ]
    }
   ],
   "source": [
    "from math import sqrt, sin, radians\n",
    "\n",
    "def f(x):\n",
    "    return sqrt(x) - (sin(radians(x)) + 1)\n",
    "\n",
    "def bisseccao(funcao, a, b, tolerancia=1e-3, max_iteracoes=10):\n",
    "    if funcao(a) * funcao(b) >= 0: \n",
    "        print(\"ops! A função deve ter sinais opostos nos limites do intervalo.\")\n",
    "        return None\n",
    "    raizes = []\n",
    "    k = 0\n",
    "    while k < max_iteracoes and abs(b - a) > tolerancia:\n",
    "        c = (a + b) / 2\n",
    "        if funcao(c) == 0:\n",
    "            return c, k\n",
    "        elif funcao(c) * funcao(a) < 0:\n",
    "            b = c\n",
    "        else:\n",
    "            a = c\n",
    "        k += 1\n",
    "        raizes.append(c)\n",
    "    return ((a + b) / 2, raizes)\n",
    "\n",
    "x = bisseccao(f, 0, 10)\n",
    "print(x)"
   ]
  },
  {
   "cell_type": "markdown",
   "id": "f18f9d6d",
   "metadata": {},
   "source": [
    "**2a**. Como o método da bisseção define um novo ponto, candidato a raíz, e em quais linhas(escreva por exemplo, da linha 37 à 42) isso aparece no código 02?"
   ]
  },
  {
   "cell_type": "markdown",
   "id": "67cea216",
   "metadata": {},
   "source": [
    "**2b**. Observe o código 02. \n",
    "\n",
    "As variáveis de saída são $\\frac{a +b}{2}$, que é a raiz da equação, e a lista $raizes$ que contem o valor de $\\frac{a +b}{2}$ a cada iteração do algoritmo.\n",
    "\n",
    "Usando o método da  bisseção, determine a raiz da equação $ \\sqrt x = sen(x) + 1$ no intervalo $[0, 10]$ **graus**, com 4 casas decimais de precisão. \n",
    "\n",
    "Resposta: 1.0400"
   ]
  },
  {
   "cell_type": "markdown",
   "id": "750f6986",
   "metadata": {},
   "source": [
    "**2c**. Mostre, através de um gráfico, a convergência do método da bisseção na determinação da raiz da equação $ \\sqrt x = sen(x) + 1$."
   ]
  },
  {
   "cell_type": "code",
   "execution_count": 12,
   "id": "e0613163",
   "metadata": {},
   "outputs": [
    {
     "data": {
      "image/png": "[encoded data removed]",
      "text/plain": [
       "<Figure size 432x288 with 1 Axes>"
      ]
     },
     "metadata": {
      "needs_background": "light"
     },
     "output_type": "display_data"
    }
   ],
   "source": [
    "import matplotlib.pyplot as plt\n",
    "\n",
    "_, iteracoes = bisseccao(f, 0, 10)\n",
    "\n",
    "plt.plot(range(len(iteracoes)), iteracoes)\n",
    "plt.grid()\n",
    "plt.show()"
   ]
  },
  {
   "cell_type": "markdown",
   "id": "c3d5c1bd",
   "metadata": {},
   "source": [
    "## Questão 04\n"
   ]
  },
  {
   "cell_type": "markdown",
   "id": "43b3b1cc",
   "metadata": {},
   "source": [
    " **4a**. Escreva abaixo um código que encontra a raiz de uma equação em um determinado intervalo, pelo **método da falsa posição**.  "
   ]
  },
  {
   "cell_type": "markdown",
   "id": "898ec0d7",
   "metadata": {},
   "source": [
    "**4b**. Encontre as raiz da equação $x^3 - 10x^2 - 400$, no intervalo $[-20,  30]$, usando o nétodo da falsa posição"
   ]
  },
  {
   "cell_type": "code",
   "execution_count": 5,
   "id": "777879f2",
   "metadata": {},
   "outputs": [
    {
     "name": "stdout",
     "output_type": "stream",
     "text": [
      "A raiz é: 12.542627533771773\n"
     ]
    }
   ],
   "source": [
    "def f(x):\n",
    "    return x**3 - 10*x**2 - 400\n",
    "\n",
    "a,b = -20, 30\n",
    "tol=1e-3\n",
    "n = 100\n",
    "\n",
    "for i in range(n):\n",
    "    fa, fb = f(a), f(b)\n",
    "    c = (a * fb - b * fa) / (fb - fa)  \n",
    "    if abs(f(c)) < tol:\n",
    "        print(\"A raiz é:\", c)\n",
    "        break\n",
    "    a = b\n",
    "    b = c\n"
   ]
  }
 ],
 "metadata": {
  "kernelspec": {
   "display_name": "Python 3",
   "language": "python",
   "name": "python3"
  },
  "language_info": {
   "codemirror_mode": {
    "name": "ipython",
    "version": 3
   },
   "file_extension": ".py",
   "mimetype": "text/x-python",
   "name": "python",
   "nbconvert_exporter": "python",
   "pygments_lexer": "ipython3",
   "version": "3.10.12"
  }
 },
 "nbformat": 4,
 "nbformat_minor": 5
}
