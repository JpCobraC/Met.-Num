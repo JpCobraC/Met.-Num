{
 "cells": [
  {
   "cell_type": "code",
   "execution_count": 16,
   "id": "5fcb34f9",
   "metadata": {},
   "outputs": [],
   "source": [
    "import numpy as np\n",
    "from sklearn.metrics import r2_score"
   ]
  },
  {
   "cell_type": "code",
   "execution_count": 17,
   "id": "e7d0393e",
   "metadata": {},
   "outputs": [
    {
     "name": "stdout",
     "output_type": "stream",
     "text": [
      "Coeficientes: b0 = 10.2289, b1 = -0.1464, b2 = 3.2763\n",
      "Coeficiente de determinação R² = 0.9883\n"
     ]
    }
   ],
   "source": [
    "x1 = np.array([-3.0, -2.0, 0.0, 1.0, 3.0, 5.0])\n",
    "x2 = np.array([1.0, 2.0, 4.0, 5.0, 8.0, 9.0])\n",
    "y = np.array([13.0, 18.8, 22.0, 27.0, 36.0, 39.0])\n",
    "\n",
    "X = np.array([\n",
    "    [1, -3, 1],\n",
    "    [1, -2, 2],\n",
    "    [1,  0, 4],\n",
    "    [1,  1, 5],\n",
    "    [1,  3, 8],\n",
    "    [1,  5, 9]])\n",
    "\n",
    "\n",
    "XtX = X.T @ X\n",
    "XtY = X.T @ y\n",
    "b = np.linalg.inv(XtX) @ XtY\n",
    "y_estimado = X @ b\n",
    "\n",
    "r2 = r2_score(y, y_estimado)\n",
    "\n",
    "print(f'Coeficientes: b0 = {b[0]:.4f}, b1 = {b[1]:.4f}, b2 = {b[2]:.4f}')\n",
    "print(f'Coeficiente de determinação R² = {r2:.4f}')"
   ]
  }
 ],
 "metadata": {
  "kernelspec": {
   "display_name": "Python 3",
   "language": "python",
   "name": "python3"
  },
  "language_info": {
   "codemirror_mode": {
    "name": "ipython",
    "version": 3
   },
   "file_extension": ".py",
   "mimetype": "text/x-python",
   "name": "python",
   "nbconvert_exporter": "python",
   "pygments_lexer": "ipython3",
   "version": "3.10.0"
  }
 },
 "nbformat": 4,
 "nbformat_minor": 5
}
