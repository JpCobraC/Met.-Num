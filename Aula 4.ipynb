{
 "cells": [
  {
   "cell_type": "markdown",
   "id": "eb5561b2",
   "metadata": {},
   "source": [
    "**Função:**\n",
    "\n",
    "$$\n",
    "f(x)= x^5 - 6x^4 - 14x^3 + 72x^2 + 44x - 180\n",
    "$$\n",
    "\n",
    "**Determinando raizes no intervalo [0, 7]**"
   ]
  },
  {
   "cell_type": "code",
   "execution_count": 3,
   "id": "84871ff5",
   "metadata": {},
   "outputs": [],
   "source": [
    "import math\n",
    "import numpy as np\n",
    "import matplotlib.pyplot as plt"
   ]
  },
  {
   "cell_type": "code",
   "execution_count": 44,
   "id": "9f9fdc32",
   "metadata": {},
   "outputs": [],
   "source": [
    "def f(x):\n",
    "    return x**5 - 6*x**4 - 14*x**3 + 72*x**2 + 44*x - 180  "
   ]
  },
  {
   "cell_type": "code",
   "execution_count": 31,
   "id": "be37d147",
   "metadata": {},
   "outputs": [
    {
     "data": {
      "image/png": "[encoded data removed]",
      "text/plain": [
       "<Figure size 640x480 with 1 Axes>"
      ]
     },
     "metadata": {},
     "output_type": "display_data"
    }
   ],
   "source": [
    "x = np.linspace(a, b)\n",
    "\n",
    "y = f(x)\n",
    "\n",
    "plt.title(\"Função f(x)\")\n",
    "plt.xlabel(\"X\")\n",
    "plt.ylabel(\"Y\")\n",
    "plt.grid(True)\n",
    "plt.axhline(0, color=\"red\", lw=0.5)\n",
    "plt.plot(x, y)\n",
    "plt.show()\n"
   ]
  },
  {
   "cell_type": "markdown",
   "id": "620384ea",
   "metadata": {},
   "source": [
    "**1 - Determinando a raiz pela Bissecção**"
   ]
  },
  {
   "cell_type": "code",
   "execution_count": 59,
   "id": "3f88be8e",
   "metadata": {},
   "outputs": [
    {
     "name": "stdout",
     "output_type": "stream",
     "text": [
      "1.7201409339904785\n",
      "2.8347554206848145\n",
      "6.360315799713135\n"
     ]
    }
   ],
   "source": [
    "def bisseccao(f, a, b, tol = 1e-6, max_i=100):\n",
    "\n",
    "    if f(a) * f(b) > 0:\n",
    "            print(\"A função não possui raizes no intervalo [a, b]\")\n",
    "    else:\n",
    "        iteracao = 0\n",
    "        while iteracao <= max_i and abs(b - a) > tol:\n",
    "            c = (a + b) /2\n",
    "            if f(c) == 0:\n",
    "                return c\n",
    "            elif f(c) * f(a) < 0:\n",
    "                b = c\n",
    "            else:\n",
    "                a = c\n",
    "            iteracao += 1\n",
    "        return (a + b) / 2\n",
    "\n",
    "a, b = 1, 2\n",
    "c, d = 2, 3\n",
    "e, g = 6, 7\n",
    "\n",
    "\n",
    "res_bisseccao_1 = bisseccao(f, a, b)\n",
    "res_bisseccao_2 = bisseccao(f, c, d)\n",
    "res_bisseccao_3 = bisseccao(f, e, g)\n",
    "\n",
    "\n",
    "print(res_bisseccao_1)\n",
    "print(res_bisseccao_2)\n",
    "print(res_bisseccao_3)"
   ]
  },
  {
   "cell_type": "markdown",
   "id": "8b627a16",
   "metadata": {},
   "source": [
    "**2 - Determinando a raiz pela secante**"
   ]
  },
  {
   "cell_type": "code",
   "execution_count": 60,
   "id": "638c20dd",
   "metadata": {},
   "outputs": [
    {
     "name": "stdout",
     "output_type": "stream",
     "text": [
      "1.720141378758499\n",
      "2.834755232360218\n",
      "6.360315437045833\n"
     ]
    }
   ],
   "source": [
    "def secante(f, x0, x1, tol=1e-6, max_iter=100):\n",
    "    iteracao = 0\n",
    "    while iteracao <= max_iter:\n",
    "        f_x0 = f(x0)\n",
    "        f_x1 = f(x1)\n",
    "\n",
    "        if abs(f_x1 - f_x0) < 1e-12:\n",
    "            print(\"Divisão por zero, denominador pequeno demais.\")\n",
    "            return None\n",
    "\n",
    "        x2 = x1 - f_x1 * (x1 - x0) / (f_x1 - f_x0)\n",
    "\n",
    "        if abs(x2 - x1) < tol:\n",
    "            return x2\n",
    "\n",
    "        x0, x1 = x1, x2\n",
    "        iteracao += 1\n",
    "    return x2\n",
    "\n",
    "res_secante_1 = secante(f, a, b)\n",
    "res_secante_2 = secante(f, c, d)\n",
    "res_secante_3 = secante(f, e, g)\n",
    "\n",
    "print(res_secante_1)\n",
    "print(res_secante_2)\n",
    "print(res_secante_3)   "
   ]
  },
  {
   "cell_type": "markdown",
   "id": "bddf0314",
   "metadata": {},
   "source": [
    "**3 - Determinando a raiz pela falsa posição**"
   ]
  },
  {
   "cell_type": "code",
   "execution_count": 61,
   "id": "fa2b48f9",
   "metadata": {},
   "outputs": [
    {
     "name": "stdout",
     "output_type": "stream",
     "text": [
      "1.720141386869797\n",
      "2.8347552307450465\n",
      "6.360315436639136\n"
     ]
    }
   ],
   "source": [
    "def falsa_posicao(f, a, b, tol=1e-6, max_iter=100):\n",
    "    iteracao = 0\n",
    "    if f(a) * f(b) >= 0:\n",
    "        print(\"A função não tem raiz garantida no intervalo [a, b]\")\n",
    "\n",
    "    while iteracao <= max_iter:\n",
    "        fa = f(a)\n",
    "        fb = f(b)\n",
    "        x = b - fb * (b - a) / (fb - fa)\n",
    "        fx = f(x)\n",
    "\n",
    "        if abs(fx) < tol:\n",
    "            return x\n",
    "\n",
    "        if fa * fx < 0:\n",
    "            b = x\n",
    "        else:\n",
    "            a = x\n",
    "        iteracao += 1\n",
    "    return x\n",
    "\n",
    "res_falsa_posicao_1 = falsa_posicao(f, a, b)\n",
    "res_falsa_posicao_2 = falsa_posicao(f, c, d)\n",
    "res_falsa_posicao_3 = falsa_posicao(f, e, g)\n",
    "\n",
    "print(res_falsa_posicao_1)\n",
    "print(res_falsa_posicao_2)\n",
    "print(res_falsa_posicao_3) "
   ]
  }
 ],
 "metadata": {
  "kernelspec": {
   "display_name": "Python 3",
   "language": "python",
   "name": "python3"
  },
  "language_info": {
   "codemirror_mode": {
    "name": "ipython",
    "version": 3
   },
   "file_extension": ".py",
   "mimetype": "text/x-python",
   "name": "python",
   "nbconvert_exporter": "python",
   "pygments_lexer": "ipython3",
   "version": "3.10.0"
  }
 },
 "nbformat": 4,
 "nbformat_minor": 5
}
