{
 "cells": [
  {
   "cell_type": "code",
   "execution_count": 1,
   "metadata": {
    "executionInfo": {
     "elapsed": 7,
     "status": "ok",
     "timestamp": 1745868228558,
     "user": {
      "displayName": "Júlio Neto",
      "userId": "00506976445566525035"
     },
     "user_tz": 180
    },
    "id": "EAdehV4folqL"
   },
   "outputs": [],
   "source": [
    "def secante(f, x0, x1, tol=1e-6, max_iter=100):\n",
    "  for i in range(max_iter):\n",
    "    x2 = x1 - f(x1) * (x1 - x0) / (f(x1) - f(x0))\n",
    "    if abs(x2 - x1) < tol:\n",
    "      return x2\n",
    "    x0 = x1\n",
    "    x1 = x2\n",
    "  return None"
   ]
  },
  {
   "cell_type": "code",
   "execution_count": 38,
   "metadata": {
    "executionInfo": {
     "elapsed": 11,
     "status": "ok",
     "timestamp": 1745868229319,
     "user": {
      "displayName": "Júlio Neto",
      "userId": "00506976445566525035"
     },
     "user_tz": 180
    },
    "id": "I4MCoYKf0FSW"
   },
   "outputs": [],
   "source": [
    "def falsaPos(f, a, b, tol=1e-6, max_iter=100):\n",
    "  if f(a) * f(b) >= 0:\n",
    "    return None\n",
    "  for i in range(max_iter):\n",
    "    c = (a * f(b) - b * f(a)) / (f(b) - f(a))\n",
    "    if abs(f(c)) < tol:\n",
    "      return c\n",
    "    if f(c) * f(a) < 0:\n",
    "      b = c\n",
    "    else:\n",
    "      a = c\n",
    "  return None"
   ]
  },
  {
   "cell_type": "code",
   "execution_count": 39,
   "metadata": {
    "colab": {
     "base_uri": "https://localhost:8080/"
    },
    "executionInfo": {
     "elapsed": 2,
     "status": "ok",
     "timestamp": 1745868230357,
     "user": {
      "displayName": "Júlio Neto",
      "userId": "00506976445566525035"
     },
     "user_tz": 180
    },
    "id": "3vJ82WB3sXrs",
    "outputId": "89b7409c-e070-4df9-bd96-66be3c7ad07b"
   },
   "outputs": [
    {
     "name": "stdout",
     "output_type": "stream",
     "text": [
      "-1.6504209968014592\n",
      "-2.852400774424255\n"
     ]
    }
   ],
   "source": [
    "def f(x):\n",
    "  return 2*x**4 + 4*x**3 - 11*x**2 - 14*x + 10\n",
    "print(secante(f, -3, -2))\n",
    "print(falsaPos(f, -3, -2))"
   ]
  }
 ],
 "metadata": {
  "colab": {
   "authorship_tag": "ABX9TyOqNkyBQlTh0Fxanekn6dVE",
   "provenance": []
  },
  "kernelspec": {
   "display_name": "Python 3",
   "name": "python3"
  },
  "language_info": {
   "codemirror_mode": {
    "name": "ipython",
    "version": 3
   },
   "file_extension": ".py",
   "mimetype": "text/x-python",
   "name": "python",
   "nbconvert_exporter": "python",
   "pygments_lexer": "ipython3",
   "version": "3.10.0"
  }
 },
 "nbformat": 4,
 "nbformat_minor": 0
}
