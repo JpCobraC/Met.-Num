{
 "cells": [
  {
   "cell_type": "code",
   "execution_count": 1,
   "id": "feba157d",
   "metadata": {},
   "outputs": [],
   "source": [
    "import numpy as np\n",
    "import JoãoPedroCobraCasici2 as jpc"
   ]
  },
  {
   "cell_type": "code",
   "execution_count": 3,
   "id": "fac10351",
   "metadata": {},
   "outputs": [
    {
     "name": "stdout",
     "output_type": "stream",
     "text": [
      "[ 5.  2. -3.  1.]\n"
     ]
    }
   ],
   "source": [
    "a_ex = [\n",
    "    [3, 0, 0, 0],\n",
    "    [2, 5, 0, 0],\n",
    "    [1, -2, 4, 0],\n",
    "    [5, 3, -4, 8]\n",
    "]\n",
    "\n",
    "b_ex = [15, 20, -11, 51]\n",
    "\n",
    "print(jpc.triangular_inferior(a_ex, b_ex))"
   ]
  }
 ],
 "metadata": {
  "kernelspec": {
   "display_name": ".venv",
   "language": "python",
   "name": "python3"
  },
  "language_info": {
   "codemirror_mode": {
    "name": "ipython",
    "version": 3
   },
   "file_extension": ".py",
   "mimetype": "text/x-python",
   "name": "python",
   "nbconvert_exporter": "python",
   "pygments_lexer": "ipython3",
   "version": "3.11.2"
  }
 },
 "nbformat": 4,
 "nbformat_minor": 5
}
