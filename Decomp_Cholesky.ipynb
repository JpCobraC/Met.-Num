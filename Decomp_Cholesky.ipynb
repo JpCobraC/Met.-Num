{
 "cells": [
  {
   "cell_type": "code",
   "execution_count": 46,
   "id": "1cd343c1",
   "metadata": {},
   "outputs": [],
   "source": [
    "import numpy as np"
   ]
  },
  {
   "cell_type": "code",
   "execution_count": 48,
   "id": "249b00c6",
   "metadata": {},
   "outputs": [
    {
     "name": "stdout",
     "output_type": "stream",
     "text": [
      "Matriz A original:\n",
      "[[ 9.  6. -3.  3.]\n",
      " [ 6. 20.  2. 22.]\n",
      " [-3.  2.  6.  2.]\n",
      " [ 3. 22.  2. 28.]]\n",
      "\n",
      "Matriz L obtida na decomposição de Cholesky:\n",
      "[[ 3.  0.  0.  0.]\n",
      " [ 2.  4.  0.  0.]\n",
      " [-1.  1.  2.  0.]\n",
      " [ 1.  5. -1.  1.]]\n",
      "\n",
      "Transposta de L:\n",
      "[[ 3.  2. -1.  1.]\n",
      " [ 0.  4.  1.  5.]\n",
      " [ 0.  0.  2. -1.]\n",
      " [ 0.  0.  0.  1.]]\n",
      "\n",
      "Matriz A reconstruída:\n",
      "[[ 9.  6. -3.  3.]\n",
      " [ 6. 20.  2. 22.]\n",
      " [-3.  2.  6.  2.]\n",
      " [ 3. 22.  2. 28.]]\n"
     ]
    }
   ],
   "source": [
    "def decomp_cholesky(A):\n",
    "    n = A.shape[0]\n",
    "\n",
    "    if A.shape[0] != A.shape[1]:\n",
    "        raise ValueError(\"A matriz deve ser quadrada.\")\n",
    "    if not np.allclose(A, A.T):\n",
    "        raise ValueError(\"A matriz deve ser simetrica.\")\n",
    "\n",
    "    L = np.zeros_like(A)\n",
    "    for i in range(n):\n",
    "        for j in range(i+1):\n",
    "            s = sum(L[i][k] * L[j][k] for k in range(j))\n",
    "            if i == j:\n",
    "                L[i][j] = np.sqrt(A[i][i] - s)\n",
    "            else:\n",
    "                L[i][j] = (A[i][j] - s) / L[j][j]\n",
    "    return L\n",
    "\n",
    "A = np.array([[9, 6, -3, 3],\n",
    "              [6, 20, 2, 22],\n",
    "              [-3, 2, 6, 2],\n",
    "              [3, 22, 2, 28]], dtype=float)\n",
    "\n",
    "L = decomp_cholesky(A)\n",
    "\n",
    "Lt = L.T\n",
    "\n",
    "A_rec = L @ Lt\n",
    "\n",
    "print(\"Matriz A original:\")\n",
    "print(A)\n",
    "\n",
    "print(\"\\nMatriz L obtida na decomposição de Cholesky:\")\n",
    "print(L)\n",
    "\n",
    "print(\"\\nTransposta de L:\")\n",
    "print(Lt)\n",
    "\n",
    "print(\"\\nMatriz A reconstruída:\")\n",
    "print(A_rec)\n"
   ]
  }
 ],
 "metadata": {
  "kernelspec": {
   "display_name": ".venv",
   "language": "python",
   "name": "python3"
  },
  "language_info": {
   "codemirror_mode": {
    "name": "ipython",
    "version": 3
   },
   "file_extension": ".py",
   "mimetype": "text/x-python",
   "name": "python",
   "nbconvert_exporter": "python",
   "pygments_lexer": "ipython3",
   "version": "3.12.3"
  }
 },
 "nbformat": 4,
 "nbformat_minor": 5
}
