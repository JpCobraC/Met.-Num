{
 "cells": [
  {
   "cell_type": "markdown",
   "id": "8c6b849f",
   "metadata": {},
   "source": [
    "# Relatório de Prática - Spark SQL\n",
    "\n",
    "## Disciplina: Banco de Dados II\n",
    "\n",
    "## Aluno(a):João Pedro Cobra Casici"
   ]
  },
  {
   "cell_type": "code",
   "execution_count": 3,
   "id": "4b1d9d88",
   "metadata": {},
   "outputs": [],
   "source": [
    "from pyspark.sql import SparkSession"
   ]
  },
  {
   "cell_type": "markdown",
   "id": "1ba0ddc7",
   "metadata": {},
   "source": [
    "1) Criação de Banco de Dados e Persistência de Tabelas:** Demonstração da criação de um banco de dados no data warehouse do Spark e persistência de tabelas gerenciadas."
   ]
  },
  {
   "cell_type": "code",
   "execution_count": null,
   "id": "6b13f620",
   "metadata": {},
   "outputs": [],
   "source": [
    "spark = SparkSession.builder.appName(\"VendasVarejoApp\").getOrCreate()\n",
    "\n",
    "spark.sql(\"CREATE DATABASE IF NOT EXISTS VendasVarejo\").show()\n",
    "spark.sql(\"USE VendasVarejo\").show()\n",
    "\n",
    "clientesDF = spark.read.parquet(\"Clientes.parquet\")\n",
    "clientesDF.write.mode(\"overwrite\").saveAsTable(\"ClientesTB\")\n",
    "\n",
    "produtosDF = spark.read.parquet(\"Produtos.parquet\")\n",
    "produtosDF.write.mode(\"overwrite\").saveAsTable(\"ProdutosTB\")\n",
    "\n",
    "vendasDF = spark.read.parquet(\"Vendas.parquet\")\n",
    "vendasDF.write.mode(\"overwrite\").saveAsTable(\"VendasTB\")\n",
    "\n",
    "itensVendaDF = spark.read.parquet(\"Itens Vendas.parquet\")\n",
    "itensVendaDF.write.mode(\"overwrite\").saveAsTable(\"ItensVendaTB\")\n",
    "\n",
    "vendedoresDF = spark.read.parquet(\"Vendedores.parquet\")\n",
    "vendedoresDF.write.mode(\"overwrite\").saveAsTable(\"VendedoresTB\")\n",
    "\n",
    "spark.sql(\"SHOW TABLES IN VendasVarejo\").show()"
   ]
  },
  {
   "cell_type": "markdown",
   "id": "12d6ca05",
   "metadata": {},
   "source": [
    "2) Consultas em Tabelas:** Execução de consultas SQL complexas envolvendo múltiplas tabelas para extração de informações específicas."
   ]
  },
  {
   "cell_type": "code",
   "execution_count": null,
   "id": "48bb5231",
   "metadata": {},
   "outputs": [],
   "source": [
    "spark.sql(\"USE VendasVarejo\").show()\n",
    "\n",
    "spark.sql(\"\"\"\n",
    "SELECT\n",
    "    c.Cliente AS Nome_Cliente,\n",
    "    v.Data AS Data_Venda,\n",
    "    p.Produto AS Produto,\n",
    "    vend.Vendedor AS Vendedor,\n",
    "    iv.ValorTotal AS Valor_Total_Item\n",
    "FROM\n",
    "    ItensVendaTB iv\n",
    "JOIN\n",
    "    VendasTB v ON iv.VendasID = v.VendasID\n",
    "JOIN\n",
    "    ClientesTB c ON v.ClienteID = c.ClienteID\n",
    "JOIN\n",
    "    ProdutosTB p ON iv.ProdutoID = p.ProdutoID\n",
    "JOIN\n",
    "    VendedoresTB vend ON v.VendedorID = vend.VendedorID\n",
    "\"\"\").show()"
   ]
  }
 ],
 "metadata": {
  "kernelspec": {
   "display_name": ".venv",
   "language": "python",
   "name": "python3"
  },
  "language_info": {
   "codemirror_mode": {
    "name": "ipython",
    "version": 3
   },
   "file_extension": ".py",
   "mimetype": "text/x-python",
   "name": "python",
   "nbconvert_exporter": "python",
   "pygments_lexer": "ipython3",
   "version": "3.11.2"
  }
 },
 "nbformat": 4,
 "nbformat_minor": 5
}
